{
 "cells": [
  {
   "cell_type": "code",
   "execution_count": null,
   "metadata": {
    "id": "pgtxk2vhTDsc"
   },
   "outputs": [],
   "source": [
    "#@title Copyright 2020 The Earth Engine Community Authors { display-mode: \"form\" }\n",
    "#\n",
    "# Licensed under the Apache License, Version 2.0 (the \"License\");\n",
    "# you may not use this file except in compliance with the License.\n",
    "# You may obtain a copy of the License at\n",
    "#\n",
    "# https://www.apache.org/licenses/LICENSE-2.0\n",
    "#\n",
    "# Unless required by applicable law or agreed to in writing, software\n",
    "# distributed under the License is distributed on an \"AS IS\" BASIS,\n",
    "# WITHOUT WARRANTIES OR CONDITIONS OF ANY KIND, either express or implied.\n",
    "# See the License for the specific language governing permissions and\n",
    "# limitations under the License."
   ]
  },
  {
   "cell_type": "markdown",
   "metadata": {
    "id": "58VYgJZJQf9i"
   },
   "source": [
    "# Detecting Changes in Sentinel-1 Imagery (Part 4)\n",
    "\n",
    "Author: mortcanty\n",
    "\n",
    "In the fourth and final part of this Community Tutorial series on SAR change detection, we will have a look at some more examples using imagery taken from the GEE Sentinel-1 Archive. In order to encourage further exploration,  the algorithm that we developed in the first three parts has been provided with a convenient interactive widget interface. Some of the examples presented here are taken from the publications \n",
    "[Canty et al. (2020)](https://www.mdpi.com/2072-4292/12/1/46) and [Canty et al. (2020a)](https://www.mdpi.com/2072-4292/12/15/2454).\n",
    "\n",
    "\n"
   ]
  },
  {
   "cell_type": "code",
   "execution_count": 1,
   "metadata": {
    "cellView": "form",
    "id": "EVotLC6T7uCf"
   },
   "outputs": [],
   "source": [
    "#@title Setup the GEE Python API\n",
    "import ee\n",
    "# Trigger the authentication flow.\n",
    "#ee.Authenticate()\n",
    "# Initialize the library.\n",
    "ee.Initialize()"
   ]
  },
  {
   "cell_type": "code",
   "execution_count": 2,
   "metadata": {
    "cellView": "form",
    "id": "Lfz-9JYeIn43"
   },
   "outputs": [
    {
     "ename": "ModuleNotFoundError",
     "evalue": "No module named 'google.colab'",
     "output_type": "error",
     "traceback": [
      "\u001b[0;31m---------------------------------------------------------------------------\u001b[0m",
      "\u001b[0;31mModuleNotFoundError\u001b[0m                       Traceback (most recent call last)",
      "\u001b[0;32m<ipython-input-2-713debb8eec8>\u001b[0m in \u001b[0;36m<module>\u001b[0;34m\u001b[0m\n\u001b[1;32m      2\u001b[0m \u001b[0;31m#from google.colab import output\u001b[0m\u001b[0;34m\u001b[0m\u001b[0;34m\u001b[0m\u001b[0;34m\u001b[0m\u001b[0m\n\u001b[1;32m      3\u001b[0m \u001b[0;31m#output.enable_custom_widget_manager()\u001b[0m\u001b[0;34m\u001b[0m\u001b[0;34m\u001b[0m\u001b[0;34m\u001b[0m\u001b[0m\n\u001b[0;32m----> 4\u001b[0;31m \u001b[0;32mfrom\u001b[0m \u001b[0mgoogle\u001b[0m\u001b[0;34m.\u001b[0m\u001b[0mcolab\u001b[0m\u001b[0;34m.\u001b[0m\u001b[0moutput\u001b[0m \u001b[0;32mimport\u001b[0m \u001b[0m_widgets\u001b[0m\u001b[0;34m\u001b[0m\u001b[0;34m\u001b[0m\u001b[0m\n\u001b[0m\u001b[1;32m      5\u001b[0m \u001b[0m_widgets\u001b[0m\u001b[0;34m.\u001b[0m\u001b[0m_install_custom_widget_manager\u001b[0m\u001b[0;34m(\u001b[0m\u001b[0;34m'https://ssl.gstatic.com/colaboratory-static/widgets/colab-cdn-widget-manager/bf763107cca07459/manager.min.js'\u001b[0m\u001b[0;34m)\u001b[0m\u001b[0;34m\u001b[0m\u001b[0;34m\u001b[0m\u001b[0m\n",
      "\u001b[0;31mModuleNotFoundError\u001b[0m: No module named 'google.colab'"
     ]
    }
   ],
   "source": [
    "#@title Widget manager\n",
    "#from google.colab import output\n",
    "#output.enable_custom_widget_manager()\n",
    "from google.colab.output import _widgets\n",
    "_widgets._install_custom_widget_manager('https://ssl.gstatic.com/colaboratory-static/widgets/colab-cdn-widget-manager/bf763107cca07459/manager.min.js')"
   ]
  },
  {
   "cell_type": "code",
   "execution_count": null,
   "metadata": {
    "cellView": "form",
    "id": "uMQG1N-fOhkJ"
   },
   "outputs": [],
   "source": [
    "#@title Install the algorithm and the interactive interface (_from fresh runtime!_)\n",
    "!pip install -q ipyleaflet\n",
    "!git clone https://github.com/mortcanty/eesarseq\n",
    "%cd /content/eesarseq/src\n",
    "%run setup install"
   ]
  },
  {
   "cell_type": "markdown",
   "metadata": {
    "id": "yZuUXMdnbAmF"
   },
   "source": [
    "# Part 4. Applications: Exploring the GEE Sentinel-1 Collection\n",
    "\n"
   ]
  },
  {
   "cell_type": "code",
   "execution_count": null,
   "metadata": {
    "cellView": "form",
    "id": "aj5YdExCggWy"
   },
   "outputs": [],
   "source": [
    "#@title Run the interface\n",
    "from eesar.application import run\n",
    "run()  "
   ]
  },
  {
   "cell_type": "markdown",
   "metadata": {
    "id": "t6c6M5VGrjLu"
   },
   "source": [
    "### How to Use the Interface"
   ]
  },
  {
   "cell_type": "markdown",
   "metadata": {
    "id": "Cz6tbETVo40H"
   },
   "source": [
    "### Example: Beira and Cyclone Idai"
   ]
  },
  {
   "cell_type": "markdown",
   "metadata": {
    "id": "8i_PkeEUpgVG"
   },
   "source": [
    "### Example: Benghazi Port Activity"
   ]
  },
  {
   "cell_type": "markdown",
   "metadata": {
    "id": "UhwVkZbup6nX"
   },
   "source": [
    "### Example: Kangaru Island Bush Fire"
   ]
  },
  {
   "cell_type": "markdown",
   "metadata": {
    "id": "G4EXaJtOqDh6"
   },
   "source": [
    "### Example: ..."
   ]
  }
 ],
 "metadata": {
  "colab": {
   "collapsed_sections": [],
   "name": "tutorial_pt_4_draft.ipynb",
   "provenance": []
  },
  "kernelspec": {
   "display_name": "Python 3",
   "language": "python",
   "name": "python3"
  },
  "language_info": {
   "codemirror_mode": {
    "name": "ipython",
    "version": 3
   },
   "file_extension": ".py",
   "mimetype": "text/x-python",
   "name": "python",
   "nbconvert_exporter": "python",
   "pygments_lexer": "ipython3",
   "version": "3.8.5"
  }
 },
 "nbformat": 4,
 "nbformat_minor": 1
}
