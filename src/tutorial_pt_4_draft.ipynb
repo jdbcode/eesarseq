{
  "nbformat": 4,
  "nbformat_minor": 0,
  "metadata": {
    "colab": {
      "name": "tutorial_pt_4_draft.ipynb",
      "provenance": [],
      "collapsed_sections": []
    },
    "kernelspec": {
      "display_name": "Python 3",
      "language": "python",
      "name": "python3"
    },
    "language_info": {
      "codemirror_mode": {
        "name": "ipython",
        "version": 3
      },
      "file_extension": ".py",
      "mimetype": "text/x-python",
      "name": "python",
      "nbconvert_exporter": "python",
      "pygments_lexer": "ipython3",
      "version": "3.8.5"
    }
  },
  "cells": [
    {
      "cell_type": "code",
      "metadata": {
        "id": "pgtxk2vhTDsc"
      },
      "source": [
        "# Copyright 2020 The Earth Engine Community Authors { display-mode: \"form\" }\n",
        "#\n",
        "# Licensed under the Apache License, Version 2.0 (the \"License\");\n",
        "# you may not use this file except in compliance with the License.\n",
        "# You may obtain a copy of the License at\n",
        "#\n",
        "# https://www.apache.org/licenses/LICENSE-2.0\n",
        "#\n",
        "# Unless required by applicable law or agreed to in writing, software\n",
        "# distributed under the License is distributed on an \"AS IS\" BASIS,\n",
        "# WITHOUT WARRANTIES OR CONDITIONS OF ANY KIND, either express or implied.\n",
        "# See the License for the specific language governing permissions and\n",
        "# limitations under the License."
      ],
      "execution_count": null,
      "outputs": []
    },
    {
      "cell_type": "markdown",
      "metadata": {
        "id": "58VYgJZJQf9i"
      },
      "source": [
        "# Detecting Changes in Sentinel-1 Imagery (Part 4)\n",
        "\n",
        "Author: mortcanty\n",
        "\n",
        "In the fourth and final part of this Community Tutorial series on SAR change detection, we will have a look at some more examples using imagery taken from the GEE Sentinel-1 Archive. In order to encourage further exploration,  the algorithm that we developed in the first three parts has been provided with a convenient interactive widget interface. Some of the examples presented here are taken from the publications \n",
        "[Canty et al. (2020)](https://www.mdpi.com/2072-4292/12/1/46) and [Canty et al. (2020a)](https://www.mdpi.com/2072-4292/12/15/2454).\n",
        "\n",
        "\n"
      ]
    },
    {
      "cell_type": "markdown",
      "metadata": {
        "id": "hvhB7oMGbN6P"
      },
      "source": [
        "### Preliminaries"
      ]
    },
    {
      "cell_type": "code",
      "metadata": {
        "id": "EVotLC6T7uCf"
      },
      "source": [
        "# Setup the GEE Python API\n",
        "import ee\n",
        "# Trigger the authentication flow.\n",
        "ee.Authenticate()\n",
        "# Initialize the library.\n",
        "ee.Initialize()"
      ],
      "execution_count": null,
      "outputs": []
    },
    {
      "cell_type": "code",
      "metadata": {
        "id": "Lfz-9JYeIn43"
      },
      "source": [
        "# Widget manager\n",
        "from google.colab import output\n",
        "output.enable_custom_widget_manager()"
      ],
      "execution_count": null,
      "outputs": []
    },
    {
      "cell_type": "code",
      "metadata": {
        "id": "uMQG1N-fOhkJ"
      },
      "source": [
        "# Install the algorithm and the interactive interface (from fresh runtime!)\n",
        "!pip install -q ipyleaflet\n",
        "!git clone https://github.com/mortcanty/eesarseq\n",
        "%cd /content/eesarseq/src\n",
        "%run setup install"
      ],
      "execution_count": null,
      "outputs": []
    },
    {
      "cell_type": "markdown",
      "metadata": {
        "id": "yZuUXMdnbAmF"
      },
      "source": [
        "# Part 4. Applications: Exploring the GEE Sentinel-1 Collection\n",
        "\n"
      ]
    },
    {
      "cell_type": "code",
      "metadata": {
        "id": "aj5YdExCggWy"
      },
      "source": [
        "# Run the interface\n",
        "from eesar.application import run\n",
        "run()  "
      ],
      "execution_count": null,
      "outputs": []
    },
    {
      "cell_type": "markdown",
      "metadata": {
        "id": "t6c6M5VGrjLu"
      },
      "source": [
        "## How to Use the Interface"
      ]
    },
    {
      "cell_type": "markdown",
      "metadata": {
        "id": "6I5fjxtV8H_6"
      },
      "source": [
        "## Some Examples"
      ]
    },
    {
      "cell_type": "markdown",
      "metadata": {
        "id": "arsl3vQzCTDx"
      },
      "source": [
        "### Crops\n",
        "\n",
        "<Crop dynamics ...>"
      ]
    },
    {
      "cell_type": "markdown",
      "metadata": {
        "id": "Cz6tbETVo40H"
      },
      "source": [
        "### Surveillance\n",
        "\n",
        "Remote sensing surveillance, or monitoring, applications are most often associated with very high resolution satellite or aereal sensors. The Sentinel-1 C-band ground range detected imagery on GEE is obviously much less applicable to such tasks. This is mainly due to the relatively poor spatial resolution ($\\approx 20m$) and the ever-present speckle in the archived images. \n",
        "\n",
        "On the other hand, a guaranteed, all-weather revisit time of 6 days might be usefully exploited in some circumstances. Seaport activity monitoring is one possibility, with the frequency of large vessel arrival and departure (usually quoted as ATT or average turnaround time) being in general of the order of days. Thus a change signal generated every 6 days from our sequential algorithm might be expected to catch a large proportion of cargo or large passenger ship movements at a given seaport. \n",
        "\n",
        "As a specific example, ports along the coast of Libya have been the subject of recent international attention, in part due to the refugee crisis in the Mediterranean and also because of Libyan political instability. Some of them have been closed periodically to international traffic. The port of Benghazi was closed in the first part of 2017, reopening on 5 October. This is verified in the change frequency plots below which were generated directly from the interface. The change observations are partly confused by noise from open water, caused mostly by surface wave conditions, but the signals of interest are quite clear. (The water mask would remove the noise, but also hide some ship movements.)\n",
        "\n",
        "<img src=\"https://github.com/mortcanty/eesarseq/blob/main/screenshots/bengasi2017.png?raw=1\"><img/>\n",
        "\n",
        "Fig. 1. Port of Benghasi change frequency 2017-01-01 to 2017-10-04 (44 images, platforms A and B, relative orbit 73, ascending node).\n",
        "\n",
        "<img src=\"https://github.com/mortcanty/eesarseq/blob/main/screenshots/bengasi2018.png?raw=1\"><img/>\n",
        "\n",
        "Fig. 2. As Figure 1 for 2018-01-01 to 2018-10-04.\n",
        "    \n",
        "<img src=\"https://github.com/mortcanty/eesarseq/blob/main/screenshots/bengasi2017-8.png?raw=1\"><img/>\n",
        "\n",
        "Fig. 3. Proportion of changed pixels in a small aoi around the main dock in Benghasi for a 76-image time sequence. There were about 950 10m pixels in all in the aoi.\n",
        "\n",
        "The covid pandemic had a very significant effect on Mediterranean tourist seaports and, unless you happen to be maybe a Venitian merchant or hotel operator, certainly a positive one. Try using the same techniques as above on the main passenger ship dock in Venice, choosing a time series covering pre-covid to the present.\n",
        "\n",
        "Another, more future-oriented application of SAR change detection, might be the verification of the de-commissioning of large open face coal mines in national programs for $CO_2 $ reduction. The Hambach open pit coal mine west of Cologne, Germany is depicted in the single interval, Loewner order change image below. The large digging and back-filling machines are visible in the change series only by virtue of their movement (cyan: machine present $\\to$ machine absent, and red: vice versa) and would disappear if all mining activity were to stop.\n",
        "\n",
        "<img src=\"https://github.com/mortcanty/eesarseq/blob/main/screenshots/hambach2020.png?raw=1\"><img/>\n",
        "\n",
        "Fig. 3. Single interval (bitemporal) changes (May 13 to May 19) over the Hambach open pit mine from a series of 55 images covering the year 2020. \n"
      ]
    },
    {
      "cell_type": "markdown",
      "metadata": {
        "id": "8i_PkeEUpgVG"
      },
      "source": [
        "### Inundation\n",
        "\n",
        "In [Part 3](https://developers.google.com/earth-engine/tutorials/community/detecting-changes-in-sentinel-1-imagery-pt-3) of this series we used a catastophic flooding event in England to introduce and illustrate the sequential change detection algorithm. This is in fact a widely known application of SAR.  Quoting from the [Office for Outer Space Affairs\n",
        "UN-SPIDER Knowledge Portal](https://un-spider.org/advisory-support/recommended-practices/recommended-practice-flood-mapping/python-step-by-step),\n",
        "\n",
        "\"The usage of Synthetic Aperture Radar (SAR) satellite imagery for flood extent mapping constitutes a viable solution with fast image processing, providing near real-time flood information to relief agencies for supporting humanitarian action. The high data reliability as well as the absence of geographical constraints,  such as site accessibility, emphasize the technology’s potential in the field.\"\n",
        "    \n",
        "   <cyclone Idia ...>\n",
        "\n",
        "The change signal from within the city of Beira itself is considerably less convincing, as you can verify yourself. This is due to the predominace of so-called double bounce scattering from built up areas, an effect which is present in both dry and flooded areas. "
      ]
    },
    {
      "cell_type": "markdown",
      "metadata": {
        "id": "mM2L4cu_LzNw"
      },
      "source": [
        "### Logging\n",
        "<Amazon, Vancouver Island ...>"
      ]
    }
  ]
}