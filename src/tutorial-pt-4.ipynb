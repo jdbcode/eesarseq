{
  "nbformat": 4,
  "nbformat_minor": 0,
  "metadata": {
    "colab": {
      "name": "tutorial-pt-4.ipynb",
      "provenance": [],
      "collapsed_sections": []
    },
    "kernelspec": {
      "name": "python3",
      "display_name": "Python 3"
    },
    "language_info": {
      "name": "python"
    }
  },
  "cells": [
    {
      "cell_type": "code",
      "metadata": {
        "id": "pgtxk2vhTDsc"
      },
      "source": [
        "#@title Copyright 2020 The Earth Engine Community Authors { display-mode: \"form\" }\n",
        "#\n",
        "# Licensed under the Apache License, Version 2.0 (the \"License\");\n",
        "# you may not use this file except in compliance with the License.\n",
        "# You may obtain a copy of the License at\n",
        "#\n",
        "# https://www.apache.org/licenses/LICENSE-2.0\n",
        "#\n",
        "# Unless required by applicable law or agreed to in writing, software\n",
        "# distributed under the License is distributed on an \"AS IS\" BASIS,\n",
        "# WITHOUT WARRANTIES OR CONDITIONS OF ANY KIND, either express or implied.\n",
        "# See the License for the specific language governing permissions and\n",
        "# limitations under the License."
      ],
      "execution_count": null,
      "outputs": []
    },
    {
      "cell_type": "markdown",
      "metadata": {
        "id": "58VYgJZJQf9i"
      },
      "source": [
        "# Detecting Changes in Sentinel-1 Imagery (Part 4)\n",
        "\n",
        "Author: mortcanty\n",
        "\n",
        "In the fourth and final part of this community tutorial series on SAR change detection, we will have a look at some examples using time series taken from the GEE Sentinel-1 Archive. In order to encourage exploration,  the algorithm that we developed in the first three parts has been provided with a convenient interactive widget interface. Some of the examples presented here are taken from the publications \n",
        "[Canty et al. (2020)](https://www.mdpi.com/2072-4292/12/1/46) and [Canty et al. (2020a)](https://www.mdpi.com/2072-4292/12/15/2454).\n",
        "\n",
        "\n"
      ]
    },
    {
      "cell_type": "markdown",
      "metadata": {
        "id": "uYsf1UBarA0z"
      },
      "source": [
        "### Preliminaries"
      ]
    },
    {
      "cell_type": "code",
      "metadata": {
        "id": "EVotLC6T7uCf"
      },
      "source": [
        "import ee"
      ],
      "execution_count": null,
      "outputs": []
    },
    {
      "cell_type": "code",
      "metadata": {
        "id": "wbCTmQ-0j9vN"
      },
      "source": [
        "# Trigger the authentication flow.\n",
        "ee.Authenticate()\n",
        "# Initialize the library.\n",
        "ee.Initialize()"
      ],
      "execution_count": null,
      "outputs": []
    },
    {
      "cell_type": "code",
      "metadata": {
        "id": "uMQG1N-fOhkJ"
      },
      "source": [
        "!pip install ipyleaflet"
      ],
      "execution_count": null,
      "outputs": []
    },
    {
      "cell_type": "code",
      "metadata": {
        "id": "fc_KQMubuQtL"
      },
      "source": [
        "!git clone https://github.com/mortcanty/eesarseq"
      ],
      "execution_count": null,
      "outputs": []
    },
    {
      "cell_type": "code",
      "metadata": {
        "id": "4PP1OrAmOKKJ"
      },
      "source": [
        "cd /content/eesarseq/src"
      ],
      "execution_count": null,
      "outputs": []
    },
    {
      "cell_type": "code",
      "metadata": {
        "id": "z6tFagLhOc-z"
      },
      "source": [
        "!python setup.py install"
      ],
      "execution_count": null,
      "outputs": []
    },
    {
      "cell_type": "markdown",
      "metadata": {
        "id": "yZuUXMdnbAmF"
      },
      "source": [
        "## Part 4. Applications: Exploring the GEE Sentinel-1 Collection\n",
        "\n"
      ]
    },
    {
      "cell_type": "code",
      "metadata": {
        "id": "aj5YdExCggWy",
        "cellView": "form"
      },
      "source": [
        "#@title Run the interface\n",
        "from eesar.application import run\n",
        "from IPython.display import display, Javascript\n",
        "display(Javascript('''\n",
        "google.colab.widgets.installCustomManager('https://ssl.gstatic.com/colaboratory-static/widgets/colab-cdn-widget-manager/158219452c5c5bf9/manager.min.js');\n",
        "'''))\n",
        "run()  "
      ],
      "execution_count": null,
      "outputs": []
    }
  ]
}